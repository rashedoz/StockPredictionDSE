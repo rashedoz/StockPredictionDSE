{
 "cells": [
  {
   "cell_type": "code",
   "execution_count": 333,
   "metadata": {},
   "outputs": [],
   "source": [
    "import numpy as np\n",
    "import pandas as pd\n",
    "from nltk.classify import NaiveBayesClassifier\n",
    "from nltk.corpus import subjectivity\n",
    "from nltk.sentiment import SentimentAnalyzer\n",
    "from nltk.sentiment.util import *\n",
    "import matplotlib.pyplot as plt\n",
    "%matplotlib inline"
   ]
  },
  {
   "cell_type": "code",
   "execution_count": 334,
   "metadata": {},
   "outputs": [],
   "source": [
    "# Reading the saved data pickle file\n",
    "df_stocks = pd.read_pickle('C:/Users/Lenovo/Desktop/DATA/msft.pkl')"
   ]
  },
  {
   "cell_type": "code",
   "execution_count": 335,
   "metadata": {},
   "outputs": [
    {
     "data": {
      "text/html": [
       "<div>\n",
       "<style scoped>\n",
       "    .dataframe tbody tr th:only-of-type {\n",
       "        vertical-align: middle;\n",
       "    }\n",
       "\n",
       "    .dataframe tbody tr th {\n",
       "        vertical-align: top;\n",
       "    }\n",
       "\n",
       "    .dataframe thead th {\n",
       "        text-align: right;\n",
       "    }\n",
       "</style>\n",
       "<table border=\"1\" class=\"dataframe\">\n",
       "  <thead>\n",
       "    <tr style=\"text-align: right;\">\n",
       "      <th></th>\n",
       "      <th>close</th>\n",
       "      <th>adj close</th>\n",
       "      <th>articles</th>\n",
       "    </tr>\n",
       "  </thead>\n",
       "  <tbody>\n",
       "    <tr>\n",
       "      <th>2007-01-01</th>\n",
       "      <td>12469.971875</td>\n",
       "      <td>12469.971875</td>\n",
       "      <td>. What Sticks from '06. Somalia Orders Islamis...</td>\n",
       "    </tr>\n",
       "    <tr>\n",
       "      <th>2007-01-02</th>\n",
       "      <td>12472.245703</td>\n",
       "      <td>12472.245703</td>\n",
       "      <td>. Heart Health: Vitamin Does Not Prevent Death...</td>\n",
       "    </tr>\n",
       "    <tr>\n",
       "      <th>2007-01-03</th>\n",
       "      <td>12474.519531</td>\n",
       "      <td>12474.519531</td>\n",
       "      <td>. Google Answer to Filling Jobs Is an Algorith...</td>\n",
       "    </tr>\n",
       "    <tr>\n",
       "      <th>2007-01-04</th>\n",
       "      <td>12480.690430</td>\n",
       "      <td>12480.690430</td>\n",
       "      <td>. Helping Make the Shift From Combat to Commer...</td>\n",
       "    </tr>\n",
       "    <tr>\n",
       "      <th>2007-01-05</th>\n",
       "      <td>12398.009766</td>\n",
       "      <td>12398.009766</td>\n",
       "      <td>. Rise in Ethanol Raises Concerns About Corn a...</td>\n",
       "    </tr>\n",
       "  </tbody>\n",
       "</table>\n",
       "</div>"
      ],
      "text/plain": [
       "                   close     adj close  \\\n",
       "2007-01-01  12469.971875  12469.971875   \n",
       "2007-01-02  12472.245703  12472.245703   \n",
       "2007-01-03  12474.519531  12474.519531   \n",
       "2007-01-04  12480.690430  12480.690430   \n",
       "2007-01-05  12398.009766  12398.009766   \n",
       "\n",
       "                                                     articles  \n",
       "2007-01-01  . What Sticks from '06. Somalia Orders Islamis...  \n",
       "2007-01-02  . Heart Health: Vitamin Does Not Prevent Death...  \n",
       "2007-01-03  . Google Answer to Filling Jobs Is an Algorith...  \n",
       "2007-01-04  . Helping Make the Shift From Combat to Commer...  \n",
       "2007-01-05  . Rise in Ethanol Raises Concerns About Corn a...  "
      ]
     },
     "execution_count": 335,
     "metadata": {},
     "output_type": "execute_result"
    }
   ],
   "source": [
    "#3653 data points, 3 columns\n",
    "df_stocks.head()\n",
    "#df_stocks.shape"
   ]
  },
  {
   "cell_type": "code",
   "execution_count": 336,
   "metadata": {},
   "outputs": [],
   "source": [
    "df_stocks['prices'] = df_stocks['adj close'].apply(np.int64)"
   ]
  },
  {
   "cell_type": "code",
   "execution_count": 337,
   "metadata": {},
   "outputs": [],
   "source": [
    "# selecting the prices and articles\n",
    "df_stocks = df_stocks[['prices', 'articles']]"
   ]
  },
  {
   "cell_type": "code",
   "execution_count": 338,
   "metadata": {},
   "outputs": [],
   "source": [
    "df_stocks['articles'] = df_stocks['articles'].map(lambda x: x.lstrip('.-'))"
   ]
  },
  {
   "cell_type": "code",
   "execution_count": 339,
   "metadata": {},
   "outputs": [
    {
     "data": {
      "text/html": [
       "<div>\n",
       "<style scoped>\n",
       "    .dataframe tbody tr th:only-of-type {\n",
       "        vertical-align: middle;\n",
       "    }\n",
       "\n",
       "    .dataframe tbody tr th {\n",
       "        vertical-align: top;\n",
       "    }\n",
       "\n",
       "    .dataframe thead th {\n",
       "        text-align: right;\n",
       "    }\n",
       "</style>\n",
       "<table border=\"1\" class=\"dataframe\">\n",
       "  <thead>\n",
       "    <tr style=\"text-align: right;\">\n",
       "      <th></th>\n",
       "      <th>prices</th>\n",
       "      <th>articles</th>\n",
       "    </tr>\n",
       "  </thead>\n",
       "  <tbody>\n",
       "    <tr>\n",
       "      <th>2007-01-01</th>\n",
       "      <td>12469</td>\n",
       "      <td>What Sticks from '06. Somalia Orders Islamist...</td>\n",
       "    </tr>\n",
       "    <tr>\n",
       "      <th>2007-01-02</th>\n",
       "      <td>12472</td>\n",
       "      <td>Heart Health: Vitamin Does Not Prevent Death ...</td>\n",
       "    </tr>\n",
       "    <tr>\n",
       "      <th>2007-01-03</th>\n",
       "      <td>12474</td>\n",
       "      <td>Google Answer to Filling Jobs Is an Algorithm...</td>\n",
       "    </tr>\n",
       "    <tr>\n",
       "      <th>2007-01-04</th>\n",
       "      <td>12480</td>\n",
       "      <td>Helping Make the Shift From Combat to Commerc...</td>\n",
       "    </tr>\n",
       "    <tr>\n",
       "      <th>2007-01-05</th>\n",
       "      <td>12398</td>\n",
       "      <td>Rise in Ethanol Raises Concerns About Corn as...</td>\n",
       "    </tr>\n",
       "  </tbody>\n",
       "</table>\n",
       "</div>"
      ],
      "text/plain": [
       "            prices                                           articles\n",
       "2007-01-01   12469   What Sticks from '06. Somalia Orders Islamist...\n",
       "2007-01-02   12472   Heart Health: Vitamin Does Not Prevent Death ...\n",
       "2007-01-03   12474   Google Answer to Filling Jobs Is an Algorithm...\n",
       "2007-01-04   12480   Helping Make the Shift From Combat to Commerc...\n",
       "2007-01-05   12398   Rise in Ethanol Raises Concerns About Corn as..."
      ]
     },
     "execution_count": 339,
     "metadata": {},
     "output_type": "execute_result"
    }
   ],
   "source": [
    "df_stocks.head()"
   ]
  },
  {
   "cell_type": "code",
   "execution_count": 340,
   "metadata": {},
   "outputs": [],
   "source": [
    "df = df_stocks[['prices']].copy()"
   ]
  },
  {
   "cell_type": "code",
   "execution_count": 341,
   "metadata": {},
   "outputs": [],
   "source": [
    "# Adding new columns to the data frame\n",
    "df[\"compound\"] = ''\n",
    "df[\"neg\"] = ''\n",
    "df[\"neu\"] = ''\n",
    "df[\"pos\"] = ''"
   ]
  },
  {
   "cell_type": "code",
   "execution_count": 342,
   "metadata": {},
   "outputs": [
    {
     "data": {
      "text/html": [
       "<div>\n",
       "<style scoped>\n",
       "    .dataframe tbody tr th:only-of-type {\n",
       "        vertical-align: middle;\n",
       "    }\n",
       "\n",
       "    .dataframe tbody tr th {\n",
       "        vertical-align: top;\n",
       "    }\n",
       "\n",
       "    .dataframe thead th {\n",
       "        text-align: right;\n",
       "    }\n",
       "</style>\n",
       "<table border=\"1\" class=\"dataframe\">\n",
       "  <thead>\n",
       "    <tr style=\"text-align: right;\">\n",
       "      <th></th>\n",
       "      <th>prices</th>\n",
       "      <th>compound</th>\n",
       "      <th>neg</th>\n",
       "      <th>neu</th>\n",
       "      <th>pos</th>\n",
       "    </tr>\n",
       "  </thead>\n",
       "  <tbody>\n",
       "    <tr>\n",
       "      <th>2007-01-01</th>\n",
       "      <td>12469</td>\n",
       "      <td></td>\n",
       "      <td></td>\n",
       "      <td></td>\n",
       "      <td></td>\n",
       "    </tr>\n",
       "    <tr>\n",
       "      <th>2007-01-02</th>\n",
       "      <td>12472</td>\n",
       "      <td></td>\n",
       "      <td></td>\n",
       "      <td></td>\n",
       "      <td></td>\n",
       "    </tr>\n",
       "    <tr>\n",
       "      <th>2007-01-03</th>\n",
       "      <td>12474</td>\n",
       "      <td></td>\n",
       "      <td></td>\n",
       "      <td></td>\n",
       "      <td></td>\n",
       "    </tr>\n",
       "    <tr>\n",
       "      <th>2007-01-04</th>\n",
       "      <td>12480</td>\n",
       "      <td></td>\n",
       "      <td></td>\n",
       "      <td></td>\n",
       "      <td></td>\n",
       "    </tr>\n",
       "    <tr>\n",
       "      <th>2007-01-05</th>\n",
       "      <td>12398</td>\n",
       "      <td></td>\n",
       "      <td></td>\n",
       "      <td></td>\n",
       "      <td></td>\n",
       "    </tr>\n",
       "  </tbody>\n",
       "</table>\n",
       "</div>"
      ],
      "text/plain": [
       "            prices compound neg neu pos\n",
       "2007-01-01   12469                     \n",
       "2007-01-02   12472                     \n",
       "2007-01-03   12474                     \n",
       "2007-01-04   12480                     \n",
       "2007-01-05   12398                     "
      ]
     },
     "execution_count": 342,
     "metadata": {},
     "output_type": "execute_result"
    }
   ],
   "source": [
    "df.head()"
   ]
  },
  {
   "cell_type": "code",
   "execution_count": 343,
   "metadata": {},
   "outputs": [
    {
     "name": "stderr",
     "output_type": "stream",
     "text": [
      "C:\\Users\\Lenovo\\Anaconda3\\envs\\tensorflow\\lib\\site-packages\\ipykernel_launcher.py:8: FutureWarning: set_value is deprecated and will be removed in a future release. Please use .at[] or .iat[] accessors instead\n",
      "  \n",
      "C:\\Users\\Lenovo\\Anaconda3\\envs\\tensorflow\\lib\\site-packages\\ipykernel_launcher.py:9: FutureWarning: set_value is deprecated and will be removed in a future release. Please use .at[] or .iat[] accessors instead\n",
      "  if __name__ == '__main__':\n",
      "C:\\Users\\Lenovo\\Anaconda3\\envs\\tensorflow\\lib\\site-packages\\ipykernel_launcher.py:10: FutureWarning: set_value is deprecated and will be removed in a future release. Please use .at[] or .iat[] accessors instead\n",
      "  # Remove the CWD from sys.path while we load stuff.\n",
      "C:\\Users\\Lenovo\\Anaconda3\\envs\\tensorflow\\lib\\site-packages\\ipykernel_launcher.py:11: FutureWarning: set_value is deprecated and will be removed in a future release. Please use .at[] or .iat[] accessors instead\n",
      "  # This is added back by InteractiveShellApp.init_path()\n"
     ]
    }
   ],
   "source": [
    "from nltk.sentiment.vader import SentimentIntensityAnalyzer\n",
    "import unicodedata\n",
    "sid = SentimentIntensityAnalyzer()\n",
    "for date, row in df_stocks.T.iteritems():\n",
    "    try:\n",
    "        sentence = unicodedata.normalize('NFKD', df_stocks.loc[date, 'articles'])\n",
    "        ss = sid.polarity_scores(sentence)\n",
    "        df.set_value(date, 'compound', ss['compound'])\n",
    "        df.set_value(date, 'neg', ss['neg'])\n",
    "        df.set_value(date, 'neu', ss['neu'])\n",
    "        df.set_value(date, 'pos', ss['pos'])\n",
    "    except TypeError:\n",
    "        print(df_stocks.loc[date, 'articles'])\n",
    "        print(date)"
   ]
  },
  {
   "cell_type": "code",
   "execution_count": 344,
   "metadata": {},
   "outputs": [
    {
     "data": {
      "text/plain": [
       "(3653, 5)"
      ]
     },
     "execution_count": 344,
     "metadata": {},
     "output_type": "execute_result"
    }
   ],
   "source": [
    "df.shape"
   ]
  },
  {
   "cell_type": "code",
   "execution_count": 345,
   "metadata": {},
   "outputs": [],
   "source": [
    "train_start_date = '2007-01-01'\n",
    "train_end_date = '2014-12-31'\n",
    "test_start_date = '2015-01-01'\n",
    "test_end_date = '2016-12-31'\n",
    "train = df.loc[train_start_date : train_end_date]\n",
    "test = df.loc[test_start_date:test_end_date]"
   ]
  },
  {
   "cell_type": "code",
   "execution_count": 346,
   "metadata": {},
   "outputs": [
    {
     "data": {
      "text/plain": [
       "(731, 5)"
      ]
     },
     "execution_count": 346,
     "metadata": {},
     "output_type": "execute_result"
    }
   ],
   "source": [
    "train.shape\n",
    "test.shape"
   ]
  },
  {
   "cell_type": "code",
   "execution_count": 347,
   "metadata": {},
   "outputs": [],
   "source": [
    "sentiment_score_list = []\n",
    "for date, row in train.T.iteritems():\n",
    "    sentiment_score = np.asarray([df.loc[date, 'neg'],df.loc[date, 'pos']])\n",
    "    sentiment_score_list.append(sentiment_score)\n",
    "numpy_df_train = np.asarray(sentiment_score_list)"
   ]
  },
  {
   "cell_type": "code",
   "execution_count": 348,
   "metadata": {},
   "outputs": [],
   "source": [
    "sentiment_score_list = []\n",
    "for date, row in train.T.iteritems():\n",
    "    sentiment_score = np.asarray([df.loc[date, 'neg'],df.loc[date, 'pos']])\n",
    "    sentiment_score_list.append(sentiment_score)\n",
    "numpy_df_test = np.asarray(sentiment_score_list)"
   ]
  },
  {
   "cell_type": "code",
   "execution_count": 349,
   "metadata": {},
   "outputs": [],
   "source": [
    "y_train = pd.DataFrame(train['prices'])\n",
    "y_test = pd.DataFrame(test['prices'])"
   ]
  },
  {
   "cell_type": "code",
   "execution_count": 350,
   "metadata": {},
   "outputs": [],
   "source": [
    "from sklearn.neural_network import MLPClassifier\n",
    "from datetime import datetime, timedelta\n",
    "\n",
    "years = [2007, 2008, 2009, 2010, 2011, 2012, 2013, 2014, 2015, 2016]\n",
    "prediction_list = []\n",
    "for year in years:\n",
    "    # Splitting the training and testing data\n",
    "    train_start_date = str(year) + '-01-01'\n",
    "    train_end_date = str(year) + '-10-31'\n",
    "    test_start_date = str(year) + '-11-01'\n",
    "    test_end_date = str(year) + '-12-31'\n",
    "    train = df.loc[train_start_date : train_end_date]\n",
    "    test = df.loc[test_start_date:test_end_date]\n",
    "    \n",
    "# Calculating the sentiment score\n",
    "    sentiment_score_list = []\n",
    "    for date, row in train.T.iteritems():\n",
    "        sentiment_score = np.asarray([df.loc[date, 'compound'],df.loc[date, 'neg'],df.loc[date, 'neu'],df.loc[date, 'pos']])     \n",
    "        sentiment_score_list.append(sentiment_score)\n",
    "    numpy_df_train = np.asarray(sentiment_score_list)\n",
    "    sentiment_score_list = []\n",
    "    for date, row in test.T.iteritems():\n",
    "        sentiment_score = np.asarray([df.loc[date, 'compound'],df.loc[date, 'neg'],df.loc[date, 'neu'],df.loc[date, 'pos']])\n",
    "        sentiment_score_list.append(sentiment_score)\n",
    "    numpy_df_test = np.asarray(sentiment_score_list)\n",
    "    \n",
    "    "
   ]
  },
  {
   "cell_type": "code",
   "execution_count": 351,
   "metadata": {},
   "outputs": [
    {
     "data": {
      "text/plain": [
       "(305, 4)"
      ]
     },
     "execution_count": 351,
     "metadata": {},
     "output_type": "execute_result"
    }
   ],
   "source": [
    "numpy_df_train.shape"
   ]
  },
  {
   "cell_type": "code",
   "execution_count": 352,
   "metadata": {},
   "outputs": [],
   "source": [
    "def offset_value(test_start_date, test, predictions_df):\n",
    "    temp_date = test_start_date\n",
    "    average_last_5_days_test = 0\n",
    "    average_upcoming_5_days_predicted = 0\n",
    "    total_days = 10\n",
    "    for i in range(total_days):\n",
    "        average_last_5_days_test += test.loc[temp_date, 'prices']\n",
    "        temp_date = datetime.strptime(temp_date, \"%Y-%m-%d\").date()\n",
    "        difference = temp_date + timedelta(days=1)\n",
    "        temp_date = difference.strftime('%Y-%m-%d')\n",
    "    average_last_5_days_test = average_last_5_days_test / total_days\n",
    "\n",
    "    temp_date = test_start_date\n",
    "    for i in range(total_days):\n",
    "        average_upcoming_5_days_predicted += predictions_df.loc[temp_date, 'prices']\n",
    "        temp_date = datetime.strptime(temp_date, \"%Y-%m-%d\").date()\n",
    "        difference = temp_date + timedelta(days=1)\n",
    "        temp_date = difference.strftime('%Y-%m-%d')\n",
    "    average_upcoming_5_days_predicted = average_upcoming_5_days_predicted / total_days\n",
    "    difference_test_predicted_prices = average_last_5_days_test - average_upcoming_5_days_predicted\n",
    "    return difference_test_predicted_prices"
   ]
  },
  {
   "cell_type": "code",
   "execution_count": 353,
   "metadata": {},
   "outputs": [
    {
     "data": {
      "text/plain": [
       "array([[-0.9975,  0.172 ,  0.762 ,  0.067 ],\n",
       "       [-0.9852,  0.125 ,  0.793 ,  0.082 ],\n",
       "       [-0.9885,  0.111 ,  0.823 ,  0.066 ],\n",
       "       [-0.9952,  0.15  ,  0.77  ,  0.08  ],\n",
       "       [-0.9956,  0.155 ,  0.798 ,  0.048 ],\n",
       "       [-0.6715,  0.143 ,  0.731 ,  0.126 ],\n",
       "       [-0.9914,  0.146 ,  0.775 ,  0.079 ],\n",
       "       [-0.9981,  0.168 ,  0.757 ,  0.074 ],\n",
       "       [ 0.9556,  0.109 ,  0.766 ,  0.125 ],\n",
       "       [-0.9701,  0.092 ,  0.854 ,  0.054 ],\n",
       "       [-0.4696,  0.089 ,  0.828 ,  0.083 ],\n",
       "       [-0.9797,  0.101 ,  0.847 ,  0.052 ],\n",
       "       [-0.2709,  0.127 ,  0.73  ,  0.143 ],\n",
       "       [-0.9833,  0.105 ,  0.818 ,  0.077 ],\n",
       "       [-0.9942,  0.147 ,  0.763 ,  0.091 ],\n",
       "       [-0.9909,  0.122 ,  0.81  ,  0.068 ],\n",
       "       [-0.9739,  0.111 ,  0.811 ,  0.078 ],\n",
       "       [-0.9924,  0.155 ,  0.736 ,  0.109 ],\n",
       "       [-0.986 ,  0.109 ,  0.851 ,  0.04  ],\n",
       "       [-0.765 ,  0.104 ,  0.822 ,  0.073 ],\n",
       "       [-0.9974,  0.182 ,  0.756 ,  0.062 ],\n",
       "       [-0.9987,  0.211 ,  0.705 ,  0.084 ],\n",
       "       [ 0.7172,  0.108 ,  0.786 ,  0.105 ],\n",
       "       [-0.9822,  0.156 ,  0.777 ,  0.067 ],\n",
       "       [-0.9941,  0.163 ,  0.778 ,  0.06  ],\n",
       "       [-0.9585,  0.142 ,  0.762 ,  0.095 ],\n",
       "       [-0.9732,  0.163 ,  0.773 ,  0.064 ],\n",
       "       [-0.9911,  0.166 ,  0.718 ,  0.116 ],\n",
       "       [-0.5233,  0.098 ,  0.812 ,  0.09  ],\n",
       "       [-0.9409,  0.089 ,  0.839 ,  0.073 ],\n",
       "       [-0.9845,  0.12  ,  0.804 ,  0.075 ],\n",
       "       [-0.9962,  0.155 ,  0.768 ,  0.077 ],\n",
       "       [-0.9827,  0.16  ,  0.737 ,  0.103 ],\n",
       "       [-0.9719,  0.165 ,  0.772 ,  0.063 ],\n",
       "       [-0.9636,  0.165 ,  0.691 ,  0.144 ],\n",
       "       [-0.9967,  0.172 ,  0.726 ,  0.103 ],\n",
       "       [-0.9735,  0.118 ,  0.794 ,  0.087 ],\n",
       "       [-0.9944,  0.145 ,  0.785 ,  0.07  ],\n",
       "       [-0.9968,  0.173 ,  0.726 ,  0.101 ],\n",
       "       [-0.9952,  0.171 ,  0.747 ,  0.082 ],\n",
       "       [-0.0772,  0.099 ,  0.808 ,  0.093 ],\n",
       "       [-0.9697,  0.126 ,  0.775 ,  0.1   ],\n",
       "       [-0.9986,  0.173 ,  0.76  ,  0.067 ],\n",
       "       [-0.9674,  0.121 ,  0.8   ,  0.08  ],\n",
       "       [-0.9912,  0.118 ,  0.834 ,  0.049 ],\n",
       "       [-0.9896,  0.141 ,  0.776 ,  0.083 ],\n",
       "       [-0.9859,  0.133 ,  0.795 ,  0.072 ],\n",
       "       [-0.9884,  0.206 ,  0.73  ,  0.064 ],\n",
       "       [-0.9942,  0.148 ,  0.77  ,  0.082 ],\n",
       "       [-0.9641,  0.113 ,  0.816 ,  0.071 ],\n",
       "       [-0.9955,  0.153 ,  0.776 ,  0.071 ],\n",
       "       [-0.9983,  0.199 ,  0.724 ,  0.077 ],\n",
       "       [-0.9864,  0.154 ,  0.737 ,  0.11  ],\n",
       "       [-0.9234,  0.152 ,  0.748 ,  0.1   ],\n",
       "       [-0.9851,  0.164 ,  0.777 ,  0.059 ],\n",
       "       [-0.9704,  0.154 ,  0.746 ,  0.1   ],\n",
       "       [-0.9898,  0.178 ,  0.719 ,  0.103 ],\n",
       "       [ 0.2869,  0.128 ,  0.763 ,  0.108 ],\n",
       "       [-0.9789,  0.138 ,  0.764 ,  0.097 ],\n",
       "       [-0.995 ,  0.168 ,  0.734 ,  0.098 ],\n",
       "       [-0.2869,  0.173 ,  0.665 ,  0.161 ]])"
      ]
     },
     "execution_count": 353,
     "metadata": {},
     "output_type": "execute_result"
    }
   ],
   "source": [
    "numpy_df_test"
   ]
  },
  {
   "cell_type": "code",
   "execution_count": 354,
   "metadata": {},
   "outputs": [
    {
     "data": {
      "text/plain": [
       "array([17716, 17851, 17740, 18538, 18552, 17623, 18552, 18526, 17148,\n",
       "       18529, 18094, 17603, 18503, 18121, 18538, 17851, 18121, 17716,\n",
       "       18121, 18616, 18526, 18169, 18544, 18552, 18538, 17740, 18533,\n",
       "       18526, 17000, 17710, 17851, 18538, 18538, 18533, 18538, 18526,\n",
       "       18121, 18552, 18161, 18526, 17851, 17740, 18526, 18121, 17740,\n",
       "       18552, 18533, 18161, 18538, 17603, 18538, 18169, 18538, 18143,\n",
       "       17535, 18552, 18526, 17495, 18533, 18526, 17808], dtype=int64)"
      ]
     },
     "execution_count": 354,
     "metadata": {},
     "output_type": "execute_result"
    }
   ],
   "source": [
    "# Generating models\n",
    "    mlpc = MLPClassifier(hidden_layer_sizes=(100, 200, 100), activation='relu',solver='lbfgs', alpha=0.005, learning_rate_init = 0.001, shuffle=False) # span = 20 # best 1\n",
    "    model = mlpc.fit(numpy_df_train, train['prices'])   \n",
    "    prediction = mlpc.predict(numpy_df_test)\n",
    "    \n",
    "    prediction"
   ]
  },
  {
   "cell_type": "code",
   "execution_count": 362,
   "metadata": {},
   "outputs": [
    {
     "ename": "ValueError",
     "evalue": "Found input variables with inconsistent numbers of samples: [731, 61]",
     "output_type": "error",
     "traceback": [
      "\u001b[1;31m---------------------------------------------------------------------------\u001b[0m",
      "\u001b[1;31mValueError\u001b[0m                                Traceback (most recent call last)",
      "\u001b[1;32m<ipython-input-362-6925c1bf9128>\u001b[0m in \u001b[0;36m<module>\u001b[1;34m\u001b[0m\n\u001b[0;32m      1\u001b[0m \u001b[1;32mfrom\u001b[0m \u001b[0msklearn\u001b[0m\u001b[1;33m.\u001b[0m\u001b[0mmetrics\u001b[0m \u001b[1;32mimport\u001b[0m \u001b[0mmean_squared_error\u001b[0m\u001b[1;33m,\u001b[0m \u001b[0mr2_score\u001b[0m\u001b[1;33m\u001b[0m\u001b[1;33m\u001b[0m\u001b[0m\n\u001b[1;32m----> 2\u001b[1;33m \u001b[0mmean_squared_error\u001b[0m\u001b[1;33m(\u001b[0m\u001b[0my_test\u001b[0m\u001b[1;33m,\u001b[0m \u001b[0mprediction\u001b[0m\u001b[1;33m)\u001b[0m\u001b[1;33m\u001b[0m\u001b[1;33m\u001b[0m\u001b[0m\n\u001b[0m",
      "\u001b[1;32m~\\Anaconda3\\envs\\tensorflow\\lib\\site-packages\\sklearn\\metrics\\regression.py\u001b[0m in \u001b[0;36mmean_squared_error\u001b[1;34m(y_true, y_pred, sample_weight, multioutput)\u001b[0m\n\u001b[0;32m    237\u001b[0m     \"\"\"\n\u001b[0;32m    238\u001b[0m     y_type, y_true, y_pred, multioutput = _check_reg_targets(\n\u001b[1;32m--> 239\u001b[1;33m         y_true, y_pred, multioutput)\n\u001b[0m\u001b[0;32m    240\u001b[0m     \u001b[0mcheck_consistent_length\u001b[0m\u001b[1;33m(\u001b[0m\u001b[0my_true\u001b[0m\u001b[1;33m,\u001b[0m \u001b[0my_pred\u001b[0m\u001b[1;33m,\u001b[0m \u001b[0msample_weight\u001b[0m\u001b[1;33m)\u001b[0m\u001b[1;33m\u001b[0m\u001b[1;33m\u001b[0m\u001b[0m\n\u001b[0;32m    241\u001b[0m     output_errors = np.average((y_true - y_pred) ** 2, axis=0,\n",
      "\u001b[1;32m~\\Anaconda3\\envs\\tensorflow\\lib\\site-packages\\sklearn\\metrics\\regression.py\u001b[0m in \u001b[0;36m_check_reg_targets\u001b[1;34m(y_true, y_pred, multioutput)\u001b[0m\n\u001b[0;32m     73\u001b[0m \u001b[1;33m\u001b[0m\u001b[0m\n\u001b[0;32m     74\u001b[0m     \"\"\"\n\u001b[1;32m---> 75\u001b[1;33m     \u001b[0mcheck_consistent_length\u001b[0m\u001b[1;33m(\u001b[0m\u001b[0my_true\u001b[0m\u001b[1;33m,\u001b[0m \u001b[0my_pred\u001b[0m\u001b[1;33m)\u001b[0m\u001b[1;33m\u001b[0m\u001b[1;33m\u001b[0m\u001b[0m\n\u001b[0m\u001b[0;32m     76\u001b[0m     \u001b[0my_true\u001b[0m \u001b[1;33m=\u001b[0m \u001b[0mcheck_array\u001b[0m\u001b[1;33m(\u001b[0m\u001b[0my_true\u001b[0m\u001b[1;33m,\u001b[0m \u001b[0mensure_2d\u001b[0m\u001b[1;33m=\u001b[0m\u001b[1;32mFalse\u001b[0m\u001b[1;33m)\u001b[0m\u001b[1;33m\u001b[0m\u001b[1;33m\u001b[0m\u001b[0m\n\u001b[0;32m     77\u001b[0m     \u001b[0my_pred\u001b[0m \u001b[1;33m=\u001b[0m \u001b[0mcheck_array\u001b[0m\u001b[1;33m(\u001b[0m\u001b[0my_pred\u001b[0m\u001b[1;33m,\u001b[0m \u001b[0mensure_2d\u001b[0m\u001b[1;33m=\u001b[0m\u001b[1;32mFalse\u001b[0m\u001b[1;33m)\u001b[0m\u001b[1;33m\u001b[0m\u001b[1;33m\u001b[0m\u001b[0m\n",
      "\u001b[1;32m~\\Anaconda3\\envs\\tensorflow\\lib\\site-packages\\sklearn\\utils\\validation.py\u001b[0m in \u001b[0;36mcheck_consistent_length\u001b[1;34m(*arrays)\u001b[0m\n\u001b[0;32m    233\u001b[0m     \u001b[1;32mif\u001b[0m \u001b[0mlen\u001b[0m\u001b[1;33m(\u001b[0m\u001b[0muniques\u001b[0m\u001b[1;33m)\u001b[0m \u001b[1;33m>\u001b[0m \u001b[1;36m1\u001b[0m\u001b[1;33m:\u001b[0m\u001b[1;33m\u001b[0m\u001b[1;33m\u001b[0m\u001b[0m\n\u001b[0;32m    234\u001b[0m         raise ValueError(\"Found input variables with inconsistent numbers of\"\n\u001b[1;32m--> 235\u001b[1;33m                          \" samples: %r\" % [int(l) for l in lengths])\n\u001b[0m\u001b[0;32m    236\u001b[0m \u001b[1;33m\u001b[0m\u001b[0m\n\u001b[0;32m    237\u001b[0m \u001b[1;33m\u001b[0m\u001b[0m\n",
      "\u001b[1;31mValueError\u001b[0m: Found input variables with inconsistent numbers of samples: [731, 61]"
     ]
    }
   ],
   "source": [
    "from sklearn.metrics import mean_squared_error, r2_score\n",
    "mean_squared_error(y_test, prediction)"
   ]
  },
  {
   "cell_type": "code",
   "execution_count": 357,
   "metadata": {},
   "outputs": [
    {
     "data": {
      "image/png": "[encoded data removed]",
      "text/plain": [
       "<Figure size 432x288 with 1 Axes>"
      ]
     },
     "metadata": {
      "needs_background": "light"
     },
     "output_type": "display_data"
    },
    {
     "data": {
      "image/png": "[encoded data removed]",
      "text/plain": [
       "<Figure size 432x288 with 1 Axes>"
      ]
     },
     "metadata": {
      "needs_background": "light"
     },
     "output_type": "display_data"
    }
   ],
   "source": [
    "    prediction_list.append(prediction)\n",
    "    #print train_start_date + ' ' + train_end_date + ' ' + test_start_date + ' ' + test_end_date\n",
    "    idx = pd.date_range(test_start_date, test_end_date)\n",
    "    #print year\n",
    "    predictions_df_list = pd.DataFrame(data=prediction[0:], index = idx, columns=['prices'])\n",
    "    \n",
    "    difference_test_predicted_prices = offset_value(test_start_date, test, predictions_df_list)\n",
    "    # Adding offset to all the advpredictions_df price values\n",
    "    predictions_df_list['prices'] = predictions_df_list['prices'] + difference_test_predicted_prices\n",
    "    predictions_df_list\n",
    "    \n",
    "    # Smoothing the plot\n",
    "    predictions_df_list['ewma'] = predictions_df_list[\"prices\"].ewm(span=20).mean()\n",
    "    predictions_df_list['actual_value'] = test['prices']\n",
    "    predictions_df_list['actual_value_ewma'] = predictions_df_list[\"actual_value\"].ewm(span=20).mean()   \n",
    "    \n",
    "     # Changing column names\n",
    "    predictions_df_list.columns = ['predicted_price', 'average_predicted_price', 'actual_price', 'average_actual_price']\n",
    "    predictions_df_list.plot()\n",
    "    predictions_df_list_average = predictions_df_list[['average_predicted_price', 'average_actual_price']]\n",
    "    predictions_df_list_average.plot()\n",
    "    \n",
    "    plt.show()"
   ]
  },
  {
   "cell_type": "code",
   "execution_count": 359,
   "metadata": {},
   "outputs": [
    {
     "name": "stderr",
     "output_type": "stream",
     "text": [
      "C:\\Users\\Lenovo\\Anaconda3\\envs\\tensorflow\\lib\\site-packages\\pandas\\core\\indexing.py:362: SettingWithCopyWarning: \n",
      "A value is trying to be set on a copy of a slice from a DataFrame.\n",
      "Try using .loc[row_indexer,col_indexer] = value instead\n",
      "\n",
      "See the caveats in the documentation: http://pandas.pydata.org/pandas-docs/stable/indexing.html#indexing-view-versus-copy\n",
      "  self.obj[key] = _infer_fill_value(value)\n",
      "C:\\Users\\Lenovo\\Anaconda3\\envs\\tensorflow\\lib\\site-packages\\pandas\\core\\indexing.py:630: SettingWithCopyWarning: \n",
      "A value is trying to be set on a copy of a slice from a DataFrame.\n",
      "Try using .loc[row_indexer,col_indexer] = value instead\n",
      "\n",
      "See the caveats in the documentation: http://pandas.pydata.org/pandas-docs/stable/indexing.html#indexing-view-versus-copy\n",
      "  self.obj[item_labels[indexer[info_axis]]] = value\n"
     ]
    }
   ],
   "source": [
    "predictions_df_list_average.loc[:,'difference'] = predictions_df_list_average.average_predicted_price - predictions_df_list_average.average_actual_price\n",
    "predictions_df_list_average.loc[:,'difference']= predictions_df_list_average.loc[:,'difference'].abs()\n",
    "predictions_df_list_average.loc[:,'pct_difference'] = ((predictions_df_list_average.difference)/(predictions_df_list_average.average_actual_price)) * 100"
   ]
  },
  {
   "cell_type": "code",
   "execution_count": null,
   "metadata": {},
   "outputs": [],
   "source": [
    "predictions_df_list_average.head()"
   ]
  },
  {
   "cell_type": "code",
   "execution_count": 360,
   "metadata": {},
   "outputs": [
    {
     "data": {
      "text/plain": [
       "3.8583300067062463"
      ]
     },
     "execution_count": 360,
     "metadata": {},
     "output_type": "execute_result"
    }
   ],
   "source": [
    "predictions_df_list_average['pct_difference'].mean()"
   ]
  },
  {
   "cell_type": "code",
   "execution_count": null,
   "metadata": {},
   "outputs": [],
   "source": [
    "x = 10\n",
    "print (\"Varibale =\" , x , \"bal = \", x)"
   ]
  }
 ],
 "metadata": {
  "kernelspec": {
   "display_name": "Python 3",
   "language": "python",
   "name": "python3"
  },
  "language_info": {
   "codemirror_mode": {
    "name": "ipython",
    "version": 3
   },
   "file_extension": ".py",
   "mimetype": "text/x-python",
   "name": "python",
   "nbconvert_exporter": "python",
   "pygments_lexer": "ipython3",
   "version": "3.6.7"
  }
 },
 "nbformat": 4,
 "nbformat_minor": 2
}
